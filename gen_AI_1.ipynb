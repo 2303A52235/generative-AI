{
  "nbformat": 4,
  "nbformat_minor": 0,
  "metadata": {
    "colab": {
      "provenance": [],
      "authorship_tag": "ABX9TyPzpF7MurWbKR0It9j38Dqw",
      "include_colab_link": true
    },
    "kernelspec": {
      "name": "python3",
      "display_name": "Python 3"
    },
    "language_info": {
      "name": "python"
    }
  },
  "cells": [
    {
      "cell_type": "markdown",
      "metadata": {
        "id": "view-in-github",
        "colab_type": "text"
      },
      "source": [
        "<a href=\"https://colab.research.google.com/github/2303A52235/generative-AI/blob/main/gen_AI_1.ipynb\" target=\"_parent\"><img src=\"https://colab.research.google.com/assets/colab-badge.svg\" alt=\"Open In Colab\"/></a>"
      ]
    },
    {
      "cell_type": "code",
      "execution_count": 1,
      "metadata": {
        "colab": {
          "base_uri": "https://localhost:8080/"
        },
        "id": "VK2HbydhMBJ8",
        "outputId": "330cdfdd-5479-449a-cfd8-cae38527f33c"
      },
      "outputs": [
        {
          "output_type": "stream",
          "name": "stdout",
          "text": [
            "MAE =  0.4600000000000016\n",
            "MSE =  0.24600000000000147\n",
            "RMSE =  0.49598387070549127\n"
          ]
        }
      ],
      "source": [
        "y_actual=[20,30,40,50,60]\n",
        "y_pred=[20.5,30.3,40.2,50.6,60.7]\n",
        "n=len(y_actual)\n",
        "sum=0\n",
        "square_error_sum=0\n",
        "for i in range(n):\n",
        "  diff=y_actual[i]-y_pred[i]\n",
        "  pos_diff=-diff\n",
        "  sum+=pos_diff\n",
        "  square_error_sum+=((y_actual[i]-y_pred[i])**2)\n",
        "MAE=sum/n\n",
        "MSE=square_error_sum/n\n",
        "RMSE=MSE**0.5\n",
        "print(f\"MAE = \",MAE)\n",
        "print(\"MSE = \",MSE)\n",
        "print(f\"RMSE = \",RMSE)\n"
      ]
    },
    {
      "cell_type": "code",
      "source": [],
      "metadata": {
        "id": "6QF02TsRMKDj"
      },
      "execution_count": null,
      "outputs": []
    }
  ]
}